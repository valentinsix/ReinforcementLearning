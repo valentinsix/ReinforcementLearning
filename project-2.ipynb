{
 "cells": [
  {
   "cell_type": "markdown",
   "metadata": {},
   "source": [
    "# Project Reinforcement Learning for Networks"
   ]
  },
  {
   "cell_type": "code",
   "execution_count": 1,
   "metadata": {},
   "outputs": [],
   "source": [
    "import numpy as np\n",
    "import matplotlib.pyplot as plt"
   ]
  },
  {
   "cell_type": "markdown",
   "metadata": {},
   "source": [
    "## Model Description"
   ]
  },
  {
   "cell_type": "code",
   "execution_count": 2,
   "metadata": {},
   "outputs": [],
   "source": [
    "MAX_VM = 3       # Maximum number of VMs\n",
    "SYS_CAPACITY = 3 # System capacity (maximum number of clients)\n",
    "FLOW_RATE = 5    # Flow rate\n",
    "\n",
    "P_A = [0.2, 0.4, 0.3, 0.1] # Probability distribution of paquets arrival\n",
    "\n",
    "RUNNING_COST = 1      # Cost of a running VM\n",
    "ACTIVATION_COST = 1   # Cost of the activation of a VM\n",
    "DEACTIVATION_COST = 1 # Cost of deactivation of a VM\n",
    "HOST_COST = 1         # Cost of hosting a client\n",
    "\n",
    "NB_STATES = (SYS_CAPACITY + 1) * (MAX_VM + 1) # Total number of states\n",
    "NB_ACTIONS = MAX_VM + 1                       # Total number of actions"
   ]
  },
  {
   "cell_type": "code",
   "execution_count": 3,
   "metadata": {},
   "outputs": [],
   "source": [
    "def cost(state, action):\n",
    "    \"\"\"\n",
    "    Cost induced by realising a given action while being in a given state.\n",
    "    In ou study it is a financial cost that we seek to minimise.\n",
    "\n",
    "    Parameters\n",
    "    ----------\n",
    "    state : Tuple[int, int]\n",
    "        State of the system (number of clients currently in the system\n",
    "        (queue or VMs) and the current number of running VMS).\n",
    "    action : int\n",
    "        Action (number of VMs to keep running).\n",
    "\n",
    "    Returns\n",
    "    -------\n",
    "    float\n",
    "        Cost\n",
    "    \"\"\"\n",
    "    clients, servers = state\n",
    "\n",
    "    c = 0\n",
    "    c += action * RUNNING_COST\n",
    "    c += (action - servers) * ACTIVATION_COST if action > servers else 0\n",
    "    c += (servers - action) * DEACTIVATION_COST if action < servers else 0\n",
    "    # c += clients * HOST_COST\n",
    "    c += (clients - action) * HOST_COST if clients > action else 0\n",
    "\n",
    "    return c "
   ]
  },
  {
   "cell_type": "code",
   "execution_count": 4,
   "metadata": {},
   "outputs": [],
   "source": [
    "def state_to_index(state):\n",
    "    clients, servers = state\n",
    "    index = clients * NB_ACTIONS + servers\n",
    "    return index"
   ]
  },
  {
   "cell_type": "code",
   "execution_count": 5,
   "metadata": {},
   "outputs": [],
   "source": [
    "def index_to_state(index):\n",
    "    clients = index // NB_ACTIONS\n",
    "    servers = index % NB_ACTIONS\n",
    "    return clients, servers"
   ]
  },
  {
   "cell_type": "code",
   "execution_count": 6,
   "metadata": {},
   "outputs": [],
   "source": [
    "def results_plot(policy, min_Q_values, nb_episodes, title, path):\n",
    "    fig, ax = plt.subplots(2,1, height_ratios=[3,1])\n",
    "    fig.tight_layout()\n",
    "    # fig.suptitle(title)\n",
    "    \n",
    "    ax[0].plot(range(0, nb_episodes), min_Q_values)\n",
    "    ax[0].set_xlabel(\"Episode\")\n",
    "    ax[0].set_ylabel(\"Minimum de la matrice Q\")\n",
    "    ax[0].set_title(title)\n",
    "\n",
    "    ax[1].set_axis_off()\n",
    "    row_labels = [f\"{i} clients\" for i in range(SYS_CAPACITY + 1)]\n",
    "    col_labels = [f\"{i} VMs\" for i in range(MAX_VM + 1)]\n",
    "    cell_text = np.zeros((SYS_CAPACITY + 1, MAX_VM + 1), dtype=np.int32)\n",
    "    for index, action in enumerate(policy):\n",
    "        clients, servers = index_to_state(index)\n",
    "        cell_text[clients, servers] = action\n",
    "\n",
    "    table = ax[1].table(\n",
    "        cellText=cell_text,\n",
    "        rowLabels=row_labels,\n",
    "        colLabels=col_labels,\n",
    "        cellLoc=\"center\",\n",
    "        rowColours=[\"lightblue\"] * (SYS_CAPACITY + 1),\n",
    "        colColours=[\"lightblue\"] * (MAX_VM + 1),\n",
    "        loc=\"center\"\n",
    "    )\n",
    "    \n",
    "    plt.savefig(path, bbox_inches=\"tight\")\n",
    "    plt.show()"
   ]
  },
  {
   "cell_type": "code",
   "execution_count": 7,
   "metadata": {},
   "outputs": [
    {
     "name": "stdout",
     "output_type": "stream",
     "text": [
      "(16, 4, 16)\n",
      "[[[0.2 0.  0.  ... 0.  0.  0. ]\n",
      "  [0.  1.  0.  ... 0.  0.  0. ]\n",
      "  [0.  0.  1.  ... 0.  0.  0. ]\n",
      "  [0.  0.  0.  ... 0.  0.  0. ]]\n",
      "\n",
      " [[0.2 0.  0.  ... 0.  0.  0. ]\n",
      "  [0.  1.  0.  ... 0.  0.  0. ]\n",
      "  [0.  0.  1.  ... 0.  0.  0. ]\n",
      "  [0.  0.  0.  ... 0.  0.  0. ]]\n",
      "\n",
      " [[0.2 0.  0.  ... 0.  0.  0. ]\n",
      "  [0.  1.  0.  ... 0.  0.  0. ]\n",
      "  [0.  0.  1.  ... 0.  0.  0. ]\n",
      "  [0.  0.  0.  ... 0.  0.  0. ]]\n",
      "\n",
      " ...\n",
      "\n",
      " [[0.  0.  0.  ... 0.  0.  0. ]\n",
      "  [0.  0.9 0.  ... 0.  0.  0. ]\n",
      "  [0.  0.  1.  ... 0.  0.  0. ]\n",
      "  [0.  0.  0.  ... 0.  0.  0. ]]\n",
      "\n",
      " [[0.  0.  0.  ... 0.  0.  0. ]\n",
      "  [0.  0.9 0.  ... 0.  0.  0. ]\n",
      "  [0.  0.  1.  ... 0.  0.  0. ]\n",
      "  [0.  0.  0.  ... 0.  0.  0. ]]\n",
      "\n",
      " [[0.  0.  0.  ... 0.  0.  0. ]\n",
      "  [0.  0.9 0.  ... 0.  0.  0. ]\n",
      "  [0.  0.  1.  ... 0.  0.  0. ]\n",
      "  [0.  0.  0.  ... 0.  0.  0. ]]]\n"
     ]
    }
   ],
   "source": [
    "# Transition matrix\n",
    "transition_matrix = np.zeros((NB_STATES, NB_ACTIONS, NB_STATES))\n",
    "\n",
    "# Iterate over states\n",
    "for s in range(NB_STATES):\n",
    "    m, n = index_to_state(s)\n",
    "\n",
    "    # Iterate over actions\n",
    "    for j in range(MAX_VM + 1):\n",
    "        \n",
    "        # Iterate over packet arrivals\n",
    "        for i in range(len(P_A)):\n",
    "            \n",
    "            # Compute new state\n",
    "            new_m = min(SYS_CAPACITY, max(0, m + i - j * FLOW_RATE))\n",
    "            new_s = state_to_index((new_m, j))\n",
    "\n",
    "            # Update transition matrix\n",
    "            # Update probability of arriving in state new_s\n",
    "            # when choosing action j from state s\n",
    "            transition_matrix[s, j, new_s] += P_A[i]\n",
    "\n",
    "print(transition_matrix.shape)\n",
    "print(transition_matrix)"
   ]
  },
  {
   "cell_type": "code",
   "execution_count": 8,
   "metadata": {},
   "outputs": [
    {
     "name": "stdout",
     "output_type": "stream",
     "text": [
      "(16, 4)\n",
      "[[1. 1. 1. 1.]\n",
      " [1. 1. 1. 1.]\n",
      " [1. 1. 1. 1.]\n",
      " [1. 1. 1. 1.]\n",
      " [1. 1. 1. 1.]\n",
      " [1. 1. 1. 1.]\n",
      " [1. 1. 1. 1.]\n",
      " [1. 1. 1. 1.]\n",
      " [1. 1. 1. 1.]\n",
      " [1. 1. 1. 1.]\n",
      " [1. 1. 1. 1.]\n",
      " [1. 1. 1. 1.]\n",
      " [1. 1. 1. 1.]\n",
      " [1. 1. 1. 1.]\n",
      " [1. 1. 1. 1.]\n",
      " [1. 1. 1. 1.]]\n"
     ]
    }
   ],
   "source": [
    "# Check if transition matrix is correct\n",
    "# When choosing action j from state s, we should\n",
    "# arrive in a new state with a probability of 1\n",
    "check = np.sum(transition_matrix, axis=2)\n",
    "print(check.shape)\n",
    "print(check)"
   ]
  },
  {
   "cell_type": "markdown",
   "metadata": {},
   "source": [
    "## Q-Value"
   ]
  },
  {
   "cell_type": "code",
   "execution_count": 9,
   "metadata": {},
   "outputs": [],
   "source": [
    "def Q_Value(transition_matrix, epsilon=1e-3, gamma=0.1):\n",
    "\n",
    "    # Initialise Q_n and Q_nn\n",
    "    Q_n = np.zeros((NB_STATES, NB_ACTIONS))\n",
    "    Q_nn = np.zeros((NB_STATES, NB_ACTIONS))\n",
    "\n",
    "    # Initialise list of Q minimums\n",
    "    min_Q_values = []\n",
    "\n",
    "    # Initialise \"episode\" counter\n",
    "    nb_episodes = 0\n",
    "\n",
    "    # Repeat until convergence\n",
    "    while nb_episodes == 0 or np.sum(Q_nn - Q_n) > epsilon:\n",
    "\n",
    "        # Update Q_n\n",
    "        Q_n = np.copy(Q_nn)\n",
    "\n",
    "        # Iterate over states\n",
    "        for s in range(NB_STATES):\n",
    "\n",
    "            # Iterate over actions\n",
    "            for j in range(NB_ACTIONS):\n",
    "\n",
    "                # Compute cost\n",
    "                r = cost(index_to_state(s), j)\n",
    "\n",
    "                # Compute sum in Bellmann equation\n",
    "                sum = 0\n",
    "                prob = transition_matrix[s, j, :] # Probabilities to arrive in every other state from state s with action j\n",
    "                for ss in range(NB_STATES):\n",
    "                    sum += prob[ss] * np.min(Q_n[ss, :])\n",
    "\n",
    "                # Update Q_nn\n",
    "                Q_nn[s, j] = r + gamma * sum\n",
    "\n",
    "        # Save minimum from Q\n",
    "        min_Q_value = np.min(Q_nn)\n",
    "        min_Q_values.append(min_Q_value)\n",
    "\n",
    "        # Increment episode counter                    \n",
    "        nb_episodes += 1\n",
    "\n",
    "    # Compute policy\n",
    "    policy = np.argmin(Q_nn, axis=1)\n",
    "\n",
    "    return policy, Q_nn, min_Q_values, nb_episodes"
   ]
  },
  {
   "cell_type": "code",
   "execution_count": 14,
   "metadata": {},
   "outputs": [],
   "source": [
    "epsilon_QV = 1e-6\n",
    "gamma_QV = 0.9\n",
    "policy_QV, Q_QV, min_Q_values_QV, nb_episodes_QV = Q_Value(transition_matrix,\n",
    "                                                           epsilon_QV, gamma_QV)"
   ]
  },
  {
   "cell_type": "code",
   "execution_count": 15,
   "metadata": {},
   "outputs": [],
   "source": [
    "title_QV = \"Q-Value\\n\" rf\"$\\epsilon =$ {epsilon_QV}, $\\gamma =$ {gamma_QV}\"\n",
    "path_QV = f\"plots/Q_value_{epsilon_QV}_{gamma_QV}.jpg\""
   ]
  },
  {
   "cell_type": "code",
   "execution_count": 16,
   "metadata": {},
   "outputs": [
    {
     "data": {
      "image/png": "[encoded data removed]",
      "text/plain": [
       "<Figure size 432x288 with 2 Axes>"
      ]
     },
     "metadata": {
      "needs_background": "light"
     },
     "output_type": "display_data"
    }
   ],
   "source": [
    "results_plot(policy_QV, min_Q_values_QV, nb_episodes_QV, title_QV, path_QV)"
   ]
  },
  {
   "cell_type": "markdown",
   "metadata": {},
   "source": [
    "## Q-Learning"
   ]
  },
  {
   "cell_type": "code",
   "execution_count": 10,
   "metadata": {},
   "outputs": [],
   "source": [
    "def Q_Learning(transition_matrix, nb_episodes=1000, max_steps=1000, epsilon=0.1, gamma=0.9, alpha=0.9):\n",
    "    \n",
    "    # Initialise Q\n",
    "    Q = np.zeros((NB_STATES, NB_ACTIONS))\n",
    "    \n",
    "    # Initialise list of Q minimums\n",
    "    min_Q_values = []\n",
    "\n",
    "    # Iterate over episode\n",
    "    for e in range(nb_episodes):\n",
    "        \n",
    "        # Initialise state\n",
    "        s = np.random.randint(0, NB_STATES)\n",
    "        \n",
    "        # Initialise step counter\n",
    "        nb_steps = 0\n",
    "\n",
    "        # Repeat for a fixed amount of steps\n",
    "        # (Because there is no terminal state)\n",
    "        while nb_steps < max_steps:\n",
    "\n",
    "            # Choose action using epsilon-greedy policy\n",
    "            if np.random.rand() < epsilon:\n",
    "                j = np.random.randint(0, NB_ACTIONS)  # Explore\n",
    "            else:\n",
    "                j = np.argmin(Q[s])  # Exploit\n",
    "\n",
    "            # Compute new state\n",
    "            new_s = np.argmax(transition_matrix[s, j, :])\n",
    "\n",
    "            # Compute cost\n",
    "            r = cost(index_to_state(s), j)\n",
    "            \n",
    "            # Update Q\n",
    "            Q[s, j] += alpha * (r + gamma * np.min(Q[new_s, :]) - Q[s, j])\n",
    "            \n",
    "            # Update state\n",
    "            s = new_s\n",
    "            \n",
    "            # Increment step counter\n",
    "            nb_steps += 1\n",
    "            \n",
    "        # Save minimum from Q\n",
    "        min_Q_value = np.min(Q)\n",
    "        min_Q_values.append(min_Q_value)\n",
    "            \n",
    "    # Compute policy\n",
    "    policy = np.argmin(Q, axis=1)\n",
    "        \n",
    "    return policy, Q, min_Q_values"
   ]
  },
  {
   "cell_type": "code",
   "execution_count": 11,
   "metadata": {},
   "outputs": [],
   "source": [
    "nb_episodes_QL = 5000\n",
    "max_steps_QL = 500\n",
    "epsilon_QL = 0.1\n",
    "gamma_QL = 0.9\n",
    "alpha_QL = 0.1\n",
    "policy_QL, Q_QL, min_Q_values_QL = Q_Learning(transition_matrix,\n",
    "                                              nb_episodes_QL, max_steps_QL,\n",
    "                                              epsilon_QL, gamma_QL, alpha_QL)"
   ]
  },
  {
   "cell_type": "code",
   "execution_count": 34,
   "metadata": {},
   "outputs": [],
   "source": [
    "title_QL = \"Q-Learning\\n\" rf\"nb_episodes = {nb_episodes_QL}, max_steps = {max_steps_QL}, $\\epsilon =$ {epsilon_QL}, $\\gamma =$ {gamma_QL}, $\\alpha =$ {alpha_QL}\"\n",
    "path_QL = f\"plots/Q_learning_{nb_episodes_QL}_{max_steps_QL}_{epsilon_QL}_{gamma_QL}_{alpha_QL}.jpg\""
   ]
  },
  {
   "cell_type": "code",
   "execution_count": 35,
   "metadata": {},
   "outputs": [
    {
     "data": {
      "image/png": "[encoded data removed]",
      "text/plain": [
       "<Figure size 432x288 with 2 Axes>"
      ]
     },
     "metadata": {
      "needs_background": "light"
     },
     "output_type": "display_data"
    }
   ],
   "source": [
    "results_plot(policy_QL, min_Q_values_QL, nb_episodes_QL, title_QL, path_QL)"
   ]
  },
  {
   "cell_type": "markdown",
   "metadata": {},
   "source": [
    "## Sarsa"
   ]
  },
  {
   "cell_type": "code",
   "execution_count": 36,
   "metadata": {},
   "outputs": [],
   "source": [
    "def SARSA(transition_matrix, nb_episodes=1000, max_steps=1000, epsilon=0.1, gamma=0.9, alpha=0.9):\n",
    "    \n",
    "    # Initialise Q\n",
    "    Q = np.zeros((NB_STATES, NB_ACTIONS))\n",
    "    \n",
    "    # Initialise list of Q minimums\n",
    "    min_Q_values = []\n",
    "\n",
    "    # Iterate over episodes\n",
    "    for e in range(nb_episodes):\n",
    "        \n",
    "        # Initialize state\n",
    "        s = np.random.randint(0, NB_STATES)\n",
    "\n",
    "        # Initialise action using epsilon-greedy policy\n",
    "        if np.random.rand() < epsilon:\n",
    "            j = np.random.randint(0, NB_ACTIONS)  # Explore\n",
    "        else:\n",
    "            j = np.argmin(Q[s])  # Exploit\n",
    "\n",
    "        # Initialise step counter\n",
    "        nb_steps = 0\n",
    "\n",
    "        # Repeat for a fixed amount of steps\n",
    "        # (Because there is no terminal state)\n",
    "        while nb_steps < max_steps:\n",
    "\n",
    "            # Compute new state\n",
    "            new_s = np.argmin(transition_matrix[s, j, :])\n",
    "\n",
    "            # Compute cost\n",
    "            r = cost(index_to_state(s), j)\n",
    "\n",
    "            # Choose action using epsilon-greedy policy\n",
    "            if np.random.rand() < epsilon:\n",
    "                new_j = np.random.randint(0, NB_ACTIONS)  # Explore\n",
    "            else:\n",
    "                new_j = np.argmin(Q[s])  # Exploit\n",
    "\n",
    "            # Update Q\n",
    "            Q[s, j] += alpha * (r + gamma * Q[new_s, new_j] - Q[s, j])\n",
    "\n",
    "            # Update state and action\n",
    "            s = new_s\n",
    "            j = new_j\n",
    "\n",
    "            # Increment step counter\n",
    "            nb_steps += 1\n",
    "\n",
    "        # Save minimum from Q\n",
    "        min_Q_value = np.min(Q)\n",
    "        min_Q_values.append(min_Q_value)\n",
    "            \n",
    "    # Compute policy\n",
    "    policy = np.argmin(Q, axis=1)\n",
    "        \n",
    "    return policy, Q, min_Q_values"
   ]
  },
  {
   "cell_type": "code",
   "execution_count": 46,
   "metadata": {},
   "outputs": [],
   "source": [
    "nb_episodes_S = 5000\n",
    "max_steps_S = 500\n",
    "epsilon_S = 0.1\n",
    "gamma_S = 0.9\n",
    "alpha_S = 0.1\n",
    "policy_S, Q_S, min_Q_values_S = SARSA(transition_matrix,\n",
    "                                      nb_episodes_S, max_steps_S,\n",
    "                                      epsilon_S, gamma_S, alpha_S)"
   ]
  },
  {
   "cell_type": "code",
   "execution_count": 47,
   "metadata": {},
   "outputs": [],
   "source": [
    "title_S = \"SARSA\\n\" rf\"nb_episodes = {nb_episodes_S}, max_steps = {max_steps_S}, $\\epsilon =$ {epsilon_S}, $\\gamma =$ {gamma_S}, $\\alpha =$ {alpha_S}\"\n",
    "path_S = f\"plots/SARSA_{nb_episodes_S}_{max_steps_S}_{epsilon_S}_{gamma_S}_{alpha_S}.jpg\""
   ]
  },
  {
   "cell_type": "code",
   "execution_count": 48,
   "metadata": {},
   "outputs": [
    {
     "data": {
      "image/png": "[encoded data removed]",
      "text/plain": [
       "<Figure size 432x288 with 2 Axes>"
      ]
     },
     "metadata": {
      "needs_background": "light"
     },
     "output_type": "display_data"
    }
   ],
   "source": [
    "results_plot(policy_S, min_Q_values_S, nb_episodes_S, title_S, path_S)"
   ]
  },
  {
   "cell_type": "markdown",
   "metadata": {},
   "source": [
    "## Q-Learning with $\\alpha$-decay"
   ]
  },
  {
   "cell_type": "code",
   "execution_count": 12,
   "metadata": {},
   "outputs": [],
   "source": [
    "def Q_Learning_decay(transition_matrix, nb_episodes=1000, max_steps=1000, epsilon=0.1, gamma=0.9, alpha_init=1.0):\n",
    "    \n",
    "    # Initialise Q\n",
    "    Q = np.zeros((NB_STATES, NB_ACTIONS))\n",
    "\n",
    "    # Initialise action_counter and alpha\n",
    "    action_counter = np.zeros((NB_STATES, NB_ACTIONS))\n",
    "    alpha = np.ones((NB_STATES, NB_ACTIONS)) * alpha_init\n",
    "    \n",
    "    # Initialise list of Q minimums\n",
    "    min_Q_values = []\n",
    "\n",
    "    # Iterate over episode\n",
    "    for e in range(nb_episodes):\n",
    "        \n",
    "        # Initialise state\n",
    "        s = np.random.randint(0, NB_STATES)\n",
    "        \n",
    "        # Initialise step counter\n",
    "        nb_steps = 0\n",
    "\n",
    "        # Repeat for a fixed amount of steps\n",
    "        # (Because there is no terminal state)\n",
    "        while nb_steps < max_steps:\n",
    "\n",
    "            # Choose action using epsilon-greedy policy\n",
    "            if np.random.rand() < epsilon:\n",
    "                j = np.random.randint(0, NB_ACTIONS)  # Explore\n",
    "            else:\n",
    "                j = np.argmin(Q[s])  # Exploit\n",
    "\n",
    "            # Compute new state\n",
    "            new_s = np.argmax(transition_matrix[s, j, :])\n",
    "\n",
    "            # Compute cost\n",
    "            r = cost(index_to_state(s), j)\n",
    "            \n",
    "            # Update Q\n",
    "            Q[s, j] += alpha[s, j] * (r + gamma * np.min(Q[new_s, :]) - Q[s, j])\n",
    "\n",
    "            # Update action_counter and alpha\n",
    "            action_counter[s, j] += 1\n",
    "            alpha[s, j] = 1 / action_counter[s, j]\n",
    "            \n",
    "            # Update state\n",
    "            s = new_s\n",
    "            \n",
    "            # Increment step counter\n",
    "            nb_steps += 1\n",
    "            \n",
    "        # Save minimum from Q\n",
    "        min_Q_value = np.min(Q)\n",
    "        min_Q_values.append(min_Q_value)\n",
    "            \n",
    "    # Compute policy\n",
    "    policy = np.argmin(Q, axis=1)\n",
    "        \n",
    "    return policy, Q, min_Q_values"
   ]
  },
  {
   "cell_type": "code",
   "execution_count": 13,
   "metadata": {},
   "outputs": [],
   "source": [
    "nb_episodes_QL_decay = nb_episodes_QL\n",
    "max_steps_QL_decay = max_steps_QL\n",
    "epsilon_QL_decay = epsilon_QL\n",
    "gamma_QL_decay = gamma_QL\n",
    "alpha_QL_decay = 0.9\n",
    "policy_QL_decay, Q_QL_decay, min_Q_values_QL_decay = Q_Learning_decay(transition_matrix,\n",
    "                                                                      nb_episodes_QL_decay, max_steps_QL_decay,\n",
    "                                                                      epsilon_QL_decay, gamma_QL_decay, alpha_QL_decay)"
   ]
  },
  {
   "cell_type": "code",
   "execution_count": 14,
   "metadata": {},
   "outputs": [],
   "source": [
    "title_QL_decay = r\"Q-Learning with $\\alpha$-decay\" \"\\n\" rf\"nb_episodes = {nb_episodes_QL_decay}, max_steps = {max_steps_QL_decay}, $\\epsilon =$ {epsilon_QL_decay}, $\\gamma =$ {gamma_QL_decay}, $\\alpha =$ {alpha_QL_decay}\"\n",
    "path_QL_decay = f\"plots/Q_learning_decay_{nb_episodes_QL_decay}_{max_steps_QL_decay}_{epsilon_QL_decay}_{gamma_QL_decay}_{alpha_QL_decay}.jpg\""
   ]
  },
  {
   "cell_type": "code",
   "execution_count": 15,
   "metadata": {},
   "outputs": [
    {
     "data": {
      "image/png": "[encoded data removed]",
      "text/plain": [
       "<Figure size 432x288 with 2 Axes>"
      ]
     },
     "metadata": {
      "needs_background": "light"
     },
     "output_type": "display_data"
    }
   ],
   "source": [
    "results_plot(policy_QL_decay, min_Q_values_QL_decay, nb_episodes_QL_decay, title_QL_decay, path_QL_decay)"
   ]
  }
 ],
 "metadata": {
  "kernelspec": {
   "display_name": "Python 3.9.6 64-bit",
   "language": "python",
   "name": "python3"
  },
  "language_info": {
   "codemirror_mode": {
    "name": "ipython",
    "version": 3
   },
   "file_extension": ".py",
   "mimetype": "text/x-python",
   "name": "python",
   "nbconvert_exporter": "python",
   "pygments_lexer": "ipython3",
   "version": "3.9.12"
  },
  "vscode": {
   "interpreter": {
    "hash": "31f2aee4e71d21fbe5cf8b01ff0e069b9275f58929596ceb00d14d90e3e16cd6"
   }
  }
 },
 "nbformat": 4,
 "nbformat_minor": 2
}
